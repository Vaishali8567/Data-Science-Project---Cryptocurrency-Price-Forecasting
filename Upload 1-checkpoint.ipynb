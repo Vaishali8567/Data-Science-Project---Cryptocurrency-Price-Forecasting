{
 "cells": [
  {
   "cell_type": "code",
   "execution_count": 2,
   "id": "ec2b1e31-e991-49d3-82fc-ba244dd35a9c",
   "metadata": {},
   "outputs": [],
   "source": [
    "import pandas as pd\n",
    "import numpy as np\n",
    "import matplotlib.pyplot as plt\n",
    "from sklearn.preprocessing import MinMaxScaler\n",
    "from sklearn.model_selection import train_test_split\n",
    "from sklearn.linear_model import LinearRegression\n",
    "from sklearn.ensemble import RandomForestRegressor\n",
    "from sklearn.metrics import mean_squared_error, mean_absolute_error\n",
    "import pandas_ta as ta  \n",
    "import tensorflow as tf\n",
    "from tensorflow.keras.models import Sequential\n",
    "from tensorflow.keras.layers import LSTM, GRU, Dense"
   ]
  },
  {
   "cell_type": "code",
   "execution_count": 3,
   "id": "d1c98d65-1fa6-4f13-8391-be133eb904f1",
   "metadata": {},
   "outputs": [],
   "source": [
    "# Load the dataset\n",
    "file_path = 'C:\\\\Users\\\\vaish\\\\OneDrive\\\\UH\\\\Project\\\\bitcoin-historical-data.csv'\n",
    "df = pd.read_csv(file_path)"
   ]
  },
  {
   "cell_type": "code",
   "execution_count": 4,
   "id": "06d55b2e-a520-45c3-9bcd-8bbce7ddf48c",
   "metadata": {},
   "outputs": [],
   "source": [
    "# Preprocessing\n",
    "df['Timestamp'] = pd.to_datetime(df['Timestamp'], errors='coerce')  # Convert 'Timestamp' to datetime\n",
    "df = df.set_index('Timestamp')  # Set 'Timestamp' as the index"
   ]
  },
  {
   "cell_type": "code",
   "execution_count": 5,
   "id": "0fb35caa-e6eb-4ddf-a6c1-222806b826b3",
   "metadata": {},
   "outputs": [],
   "source": [
    "# Calculate Market Indicators\n",
    "\n",
    "# 1. Moving Averages\n",
    "df['SMA_30'] = df['Close'].rolling(window=30).mean()  # 30-day Simple Moving Average\n",
    "df['EMA_30'] = df['Close'].ewm(span=30, adjust=False).mean()  # 30-day Exponential Moving Average\n",
    "\n",
    "# 2. Relative Strength Index (RSI)\n",
    "df['RSI'] = df.ta.rsi(length=14) # 14-period RSI\n",
    "\n",
    "# 3. Bollinger Bands\n",
    "bb = df.ta.bbands(length=20, std=2)\n",
    "\n",
    "# Assign the individual bands to the DataFrame\n",
    "df['BB_lower'] = bb['BBL_20_2.0']  # Lower Bollinger Band\n",
    "df['BB_middle'] = bb['BBM_20_2.0']  # Middle Bollinger Band\n",
    "df['BB_upper'] = bb['BBU_20_2.0']  # Upper Bollinger Band\n",
    "\n",
    "# Drop any NaN values\n",
    "df.dropna(inplace=True)"
   ]
  },
  {
   "cell_type": "code",
   "execution_count": null,
   "id": "8f772555-a3ca-4ecd-9be1-240ddf29d145",
   "metadata": {},
   "outputs": [],
   "source": []
  }
 ],
 "metadata": {
  "kernelspec": {
   "display_name": "Python 3 (ipykernel)",
   "language": "python",
   "name": "python3"
  },
  "language_info": {
   "codemirror_mode": {
    "name": "ipython",
    "version": 3
   },
   "file_extension": ".py",
   "mimetype": "text/x-python",
   "name": "python",
   "nbconvert_exporter": "python",
   "pygments_lexer": "ipython3",
   "version": "3.11.5"
  }
 },
 "nbformat": 4,
 "nbformat_minor": 5
}
# Prepare data for machine learning models
features = ['Close', 'SMA_30', 'EMA_30', 'RSI', 'BB_upper', 'BB_lower']
X_data = df[features].values
y_data = df['Close'].values  # Target variable: Bitcoin closing price

# Time-Based Split (First 80% train, last 20% test) 
split_index = int(0.8 * len(df))
X_train, X_test = X_data[:split_index], X_data[split_index:]
y_train, y_test = y_data[:split_index], y_data[split_index:]

# Initialize & Train Models

def evaluate(y_test, y_pred, model_name):
    """ Compute and print RMSE, MAE, and MAPE """
    rmse = np.sqrt(mean_squared_error(y_test, y_pred))
    mae = mean_absolute_error(y_test, y_pred)
    mape = np.mean(np.abs((y_test - y_pred) / y_test)) * 100
    print(f"{model_name} - RMSE: {rmse:.2f}, MAE: {mae:.2f}, MAPE: {mape:.2f}%")
    return y_pred
